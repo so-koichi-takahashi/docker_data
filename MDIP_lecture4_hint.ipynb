{
 "cells": [
  {
   "cell_type": "markdown",
   "metadata": {
    "id": "eRZgTEXGMcWR"
   },
   "source": [
    "# 多次元信号処理特論　第４章　演習課題"
   ]
  },
  {
   "cell_type": "markdown",
   "metadata": {
    "id": "3afenBE1Me1e"
   },
   "source": [
    "## 課題1\n",
    "\n",
    "以下に与えられている$y_\\alpha$を$a_1 x_\\alpha -a_2$で近似するとき，最小２乗法によって最適な$a_1$と$a_2$を求めよ．\n",
    "\n",
    "なお，連立方程式$y=Ax$の解は\n",
    "\n",
    "```\n",
    "np.linalg.solve(A,x)\n",
    "```\n",
    "によって行える．\n",
    "\n",
    "ヒント：解説で述べた行列$A$までは作っておいた．\n"
   ]
  },
  {
   "cell_type": "code",
   "execution_count": 4,
   "metadata": {
    "colab": {
     "base_uri": "https://localhost:8080/",
     "height": 282
    },
    "id": "sENGq62cMmgL",
    "outputId": "18282ad6-1772-4455-f958-a0e73c6207ff"
   },
   "outputs": [
    {
     "data": {
      "text/plain": [
       "[<matplotlib.lines.Line2D at 0x7fdc3134ad10>]"
      ]
     },
     "execution_count": 4,
     "metadata": {},
     "output_type": "execute_result"
    },
    {
     "data": {
      "image/png": "[encoded data removed]",
      "text/plain": [
       "<Figure size 432x288 with 1 Axes>"
      ]
     },
     "metadata": {
      "needs_background": "light"
     },
     "output_type": "display_data"
    }
   ],
   "source": [
    "import numpy as np\n",
    "import matplotlib.pyplot as plt\n",
    "\n",
    "x = np.array([0.038, 0.194, 0.425, 0.626, 1.253, 2.500, 3.740])\n",
    "y = np.array([0.050, 0.127, 0.094, 0.2122, 0.2729, 0.2665, 0.3317])\n",
    "\n",
    "#行列Aを作る\n",
    "A=np.ones([7,2])\n",
    "A[:,0]=x\n",
    "\n",
    "#適当な直線のパラメータ（まったくダメなやつ）\n",
    "a =[0.001, 0.2]\n",
    "\n",
    "#このあと連立方程式を解いて最適な$a$を決める\n",
    "X = np.dot( np.linalg.inv(np.dot(A.T, A)) , np.dot(A.T, y) )\n",
    "\n",
    "#グラフ\n",
    "plt.plot(x,y,'r.')\n",
    "plt.plot(x,X[0]*x + X[1])\n"
   ]
  },
  {
   "cell_type": "markdown",
   "metadata": {
    "id": "_QbOdEP8MmnV"
   },
   "source": [
    "## 課題２\n",
    "\n",
    "以下に与えられている$[x_\\alpha]_2$を\n",
    "\n",
    "$\\frac{u_1 [x_\\alpha]_1}{u_2+[x_\\alpha]_1}$\n",
    "\n",
    "という関数で近似するとき，以下の目的関数\n",
    "\n",
    "$ \\frac{1}{2}\\sum_\\alpha \\left([x_\\alpha]_2 - \\frac{u_1 [x_\\alpha]_1}{u_2+[x_\\alpha]_1}\\right)^2$\n",
    "\n",
    "を最小化するパラメータ$u_1, u_2$を，Gauss-Newton法を実装して求めよ．\n",
    "\n",
    "ヒントとして，固定ステップサイズの勾配降下法のコードを載せておくので参考にせよ．\n",
    "\n",
    "※この問題の数値と関数の例は[Wikipedia](https://ja.wikipedia.org/wiki/%E3%82%AC%E3%82%A6%E3%82%B9%E3%83%BB%E3%83%8B%E3%83%A5%E3%83%BC%E3%83%88%E3%83%B3%E6%B3%95)より引用した．"
   ]
  },
  {
   "cell_type": "code",
   "execution_count": null,
   "metadata": {
    "colab": {
     "base_uri": "https://localhost:8080/",
     "height": 282
    },
    "id": "3laIowANLmcg",
    "outputId": "146edaa9-9e09-4a9a-d2e6-11b0ef550ee2"
   },
   "outputs": [
    {
     "data": {
      "text/plain": [
       "[<matplotlib.lines.Line2D at 0x7fa6c4859978>]"
      ]
     },
     "execution_count": 2,
     "metadata": {
      "tags": []
     },
     "output_type": "execute_result"
    },
    {
     "data": {
      "image/png": "[encoded data removed]",
      "text/plain": [
       "<Figure size 432x288 with 1 Axes>"
      ]
     },
     "metadata": {
      "needs_background": "light",
      "tags": []
     },
     "output_type": "display_data"
    }
   ],
   "source": [
    "x1 = np.array([0.038, 0.194, 0.425, 0.626, 1.253, 2.500, 3.740])\n",
    "x2 = np.array([0.050, 0.127, 0.094, 0.2122, 0.2729, 0.2665, 0.3317])\n",
    "\n",
    "# 数値例はWikipediaによる\n",
    "\n",
    "plt.plot(x1,x2,'r.')"
   ]
  },
  {
   "cell_type": "code",
   "execution_count": null,
   "metadata": {
    "id": "TgKYdocUNjDH"
   },
   "outputs": [],
   "source": [
    "# 各種関数の定義\n",
    "\n",
    "#近似関数\n",
    "def f(x1,u):\n",
    "  return u[0]*x1/(u[1]+x1)\n",
    "\n",
    "# ∇uF\n",
    "def calc_nuF(x1,u):\n",
    "  nuF = np.zeros([7,2])\n",
    "  nuF[:,0] = -x1/(u[1]+x1)\n",
    "  nuF[:,1] = u[0]*x1/((u[1]+x1)**2)\n",
    "  return nuF\n",
    "\n",
    "# F\n",
    "def calc_F(x1,x2,u):\n",
    "  return x2-f(x1,u)\n",
    "\n"
   ]
  },
  {
   "cell_type": "code",
   "execution_count": null,
   "metadata": {
    "colab": {
     "base_uri": "https://localhost:8080/"
    },
    "id": "L6lUydLqOeeg",
    "outputId": "94f6d9aa-34e2-477b-8ae1-0c90c218a215"
   },
   "outputs": [
    {
     "name": "stdout",
     "output_type": "stream",
     "text": [
      "[0.66661402 0.38644544]\n",
      "[0.56789505 0.42693775]\n",
      "[0.50356526 0.44825822]\n",
      "[0.45944241 0.46095297]\n",
      "[0.42846583 0.4690345 ]\n",
      "[0.40643995 0.4744141 ]\n",
      "[0.39065898 0.47811596]\n",
      "[0.37929857 0.48073215]\n",
      "[0.37109594 0.48262416]\n",
      "[0.36516256 0.48402199]\n",
      "[0.36086647 0.48507674]\n",
      "[0.35775506 0.48589021]\n",
      "[0.3555025  0.48653233]\n",
      "[0.35387346 0.48705182]\n",
      "[0.35269756 0.48748305]\n",
      "[0.35185121 0.48785046]\n",
      "[0.35124465 0.48817154]\n",
      "[0.35081265 0.48845884]\n",
      "[0.35050776 0.48872146]\n",
      "[0.35029542 0.48896595]\n"
     ]
    }
   ],
   "source": [
    "#勾配降下法\n",
    "\n",
    "u = np.array([0.9, 0.2])\n",
    "step = 1e-1\n",
    "\n",
    "for i in range(20):\n",
    "  nuF = calc_nuF(x1,u)\n",
    "  F = calc_F(x1,x2,u)\n",
    "  # 勾配\n",
    "  nabla_u = np.matmul(F, nuF)\n",
    "  # 勾配降下\n",
    "  u = u - step*nabla_u\n",
    "  print(u)"
   ]
  },
  {
   "cell_type": "code",
   "execution_count": null,
   "metadata": {
    "colab": {
     "base_uri": "https://localhost:8080/",
     "height": 282
    },
    "id": "yazK0pxUSLTg",
    "outputId": "fc0252f3-f1cf-4418-b900-e999ba44cbe6"
   },
   "outputs": [
    {
     "data": {
      "text/plain": [
       "[<matplotlib.lines.Line2D at 0x7fa6c43267b8>]"
      ]
     },
     "execution_count": 5,
     "metadata": {
      "tags": []
     },
     "output_type": "execute_result"
    },
    {
     "data": {
      "image/png": "[encoded data removed]",
      "text/plain": [
       "<Figure size 432x288 with 1 Axes>"
      ]
     },
     "metadata": {
      "needs_background": "light",
      "tags": []
     },
     "output_type": "display_data"
    }
   ],
   "source": [
    "#グラフも書いてみよう\n",
    "xx = (np.linspace(0, 4, 100))\n",
    "plt.plot(x1,x2,'r.')\n",
    "plt.plot(xx, f(xx,u))\n"
   ]
  },
  {
   "cell_type": "markdown",
   "metadata": {
    "id": "hYY8cuMhYsl5"
   },
   "source": [
    "## 課題３（追加課題）\n",
    "\n",
    "\n",
    "*   課題１のコードを多項式による近似へと拡張せよ\n",
    "*   課題２で$u$の初期値が大きいとき（例：$u=[3,3]$，ガウスニュートン法がどのような挙動を示すか調べて報告せよ\n",
    "\n",
    "\n"
   ]
  },
  {
   "cell_type": "code",
   "execution_count": 64,
   "metadata": {},
   "outputs": [
    {
     "data": {
      "text/plain": [
       "[<matplotlib.lines.Line2D at 0x7fdc3045afd0>]"
      ]
     },
     "execution_count": 64,
     "metadata": {},
     "output_type": "execute_result"
    },
    {
     "data": {
      "image/png": "[encoded data removed]",
      "text/plain": [
       "<Figure size 432x288 with 1 Axes>"
      ]
     },
     "metadata": {
      "needs_background": "light"
     },
     "output_type": "display_data"
    }
   ],
   "source": [
    "x = np.array([0.038, 0.194, 0.425, 0.626, 1.253, 2.500, 3.740])\n",
    "y = np.array([0.050, 0.127, 0.094, 0.2122, 0.2729, 0.2665, 0.3317])\n",
    "\n",
    "\n",
    "#行列Aを作る\n",
    "def fitting(deg):\n",
    "    A=np.ones([7,deg])\n",
    "    for i in range(deg):\n",
    "        A[:,i-1] = x**(i)\n",
    "        \n",
    "#次数指定\n",
    "fitting(1)\n",
    "\n",
    "\n",
    "#このあと連立方程式を解いて最適な$a$を決める\n",
    "X = np.dot( np.linalg.inv(np.dot(A.T, A)) , np.dot(A.T, y) )\n",
    "\n",
    "Y_ans = 0\n",
    "for i in range(X.size):\n",
    "    Y = X[i] * x**(i+1)\n",
    "    Y_ans += Y\n",
    "    \n",
    "#グラフ\n",
    "plt.plot(x,y,'r.')\n",
    "plt.plot(x , Y_ans)\n"
   ]
  },
  {
   "cell_type": "code",
   "execution_count": 37,
   "metadata": {},
   "outputs": [],
   "source": [
    "def fitting(deg):\n",
    "    A=np.ones([7,deg])\n",
    "    for i in range(deg):\n",
    "        A[:,i]=x**(i+1)"
   ]
  },
  {
   "cell_type": "code",
   "execution_count": 71,
   "metadata": {},
   "outputs": [],
   "source": [
    "A=np.ones([7,1])\n",
    "A[:,0] = x**1"
   ]
  },
  {
   "cell_type": "code",
   "execution_count": 88,
   "metadata": {},
   "outputs": [
    {
     "data": {
      "text/plain": [
       "array([[3.800000e-02, 1.444000e-03, 1.000000e+00],\n",
       "       [1.940000e-01, 3.763600e-02, 1.000000e+00],\n",
       "       [4.250000e-01, 1.806250e-01, 1.000000e+00],\n",
       "       [6.260000e-01, 3.918760e-01, 1.000000e+00],\n",
       "       [1.253000e+00, 1.570009e+00, 1.000000e+00],\n",
       "       [2.500000e+00, 6.250000e+00, 1.000000e+00],\n",
       "       [3.740000e+00, 1.398760e+01, 1.000000e+00]])"
      ]
     },
     "execution_count": 88,
     "metadata": {},
     "output_type": "execute_result"
    }
   ],
   "source": [
    "x = np.array([0.038, 0.194, 0.425, 0.626, 1.253, 2.500, 3.740])\n",
    "\n",
    "def fitting(deg):\n",
    "    A=np.ones([7,deg])\n",
    "    for i in range(deg):\n",
    "        A[:,i-1] = x**(i)\n",
    "    return A\n",
    "\n",
    "#次数指定\n",
    "fitting(3)"
   ]
  },
  {
   "cell_type": "code",
   "execution_count": 48,
   "metadata": {},
   "outputs": [
    {
     "data": {
      "text/plain": [
       "[array([0.01622463, 0.08283103, 0.18145972, 0.2672795 , 0.53498596,\n",
       "        1.06741014, 1.59684556]),\n",
       " array([-2.95439580e-04, -7.70025210e-03, -3.69555222e-02, -8.01770643e-02,\n",
       "        -3.21220775e-01, -1.27873779e+00, -2.86183564e+00]),\n",
       " array([1.67502145e-06, 2.22881886e-04, 2.34334576e-03, 7.48846119e-03,\n",
       "        6.00513530e-02, 4.76968403e-01, 1.59692452e+00])]"
      ]
     },
     "execution_count": 48,
     "metadata": {},
     "output_type": "execute_result"
    }
   ],
   "source": [
    "Y_arr"
   ]
  },
  {
   "cell_type": "code",
   "execution_count": 18,
   "metadata": {},
   "outputs": [
    {
     "data": {
      "text/plain": [
       "array([1.444000e-03, 3.763600e-02, 1.806250e-01, 3.918760e-01,\n",
       "       1.570009e+00, 6.250000e+00, 1.398760e+01])"
      ]
     },
     "execution_count": 18,
     "metadata": {},
     "output_type": "execute_result"
    }
   ],
   "source": [
    "x**2"
   ]
  },
  {
   "cell_type": "code",
   "execution_count": 24,
   "metadata": {},
   "outputs": [],
   "source": []
  },
  {
   "cell_type": "code",
   "execution_count": 25,
   "metadata": {},
   "outputs": [
    {
     "data": {
      "text/plain": [
       "array([[3.800000e-02, 1.444000e-03],\n",
       "       [1.940000e-01, 3.763600e-02],\n",
       "       [4.250000e-01, 1.806250e-01],\n",
       "       [6.260000e-01, 3.918760e-01],\n",
       "       [1.253000e+00, 1.570009e+00],\n",
       "       [2.500000e+00, 6.250000e+00],\n",
       "       [3.740000e+00, 1.398760e+01]])"
      ]
     },
     "execution_count": 25,
     "metadata": {},
     "output_type": "execute_result"
    }
   ],
   "source": [
    "A"
   ]
  },
  {
   "cell_type": "code",
   "execution_count": null,
   "metadata": {},
   "outputs": [],
   "source": []
  }
 ],
 "metadata": {
  "colab": {
   "collapsed_sections": [],
   "name": "MDIP_lecture4_hint.ipynb",
   "provenance": []
  },
  "kernelspec": {
   "display_name": "Python 3",
   "language": "python",
   "name": "python3"
  },
  "language_info": {
   "codemirror_mode": {
    "name": "ipython",
    "version": 3
   },
   "file_extension": ".py",
   "mimetype": "text/x-python",
   "name": "python",
   "nbconvert_exporter": "python",
   "pygments_lexer": "ipython3",
   "version": "3.8.6"
  }
 },
 "nbformat": 4,
 "nbformat_minor": 4
}
